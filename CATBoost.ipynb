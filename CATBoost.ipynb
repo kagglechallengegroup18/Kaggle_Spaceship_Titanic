{
  "nbformat": 4,
  "nbformat_minor": 0,
  "metadata": {
    "colab": {
      "provenance": []
    },
    "kernelspec": {
      "name": "python3",
      "display_name": "Python 3"
    },
    "language_info": {
      "name": "python"
    }
  },
  "cells": [
    {
      "cell_type": "code",
      "execution_count": 1,
      "metadata": {
        "colab": {
          "base_uri": "https://localhost:8080/"
        },
        "id": "XowC7KjhhNln",
        "outputId": "7b0c6384-fa08-4cba-b6fd-98c5ff812da3"
      },
      "outputs": [
        {
          "output_type": "stream",
          "name": "stdout",
          "text": [
            "Mounted at /content/drive\n"
          ]
        }
      ],
      "source": [
        "from google.colab import drive\n",
        "drive.mount('/content/drive')"
      ]
    },
    {
      "cell_type": "code",
      "source": [
        "!pip install catboost"
      ],
      "metadata": {
        "colab": {
          "base_uri": "https://localhost:8080/"
        },
        "id": "mycUzUWimlno",
        "outputId": "4dd01d72-a033-47a1-aa04-acee160a8539"
      },
      "execution_count": 17,
      "outputs": [
        {
          "output_type": "stream",
          "name": "stdout",
          "text": [
            "Collecting catboost\n",
            "  Downloading catboost-1.2.8-cp311-cp311-manylinux2014_x86_64.whl.metadata (1.2 kB)\n",
            "Requirement already satisfied: graphviz in /usr/local/lib/python3.11/dist-packages (from catboost) (0.21)\n",
            "Requirement already satisfied: matplotlib in /usr/local/lib/python3.11/dist-packages (from catboost) (3.10.0)\n",
            "Requirement already satisfied: numpy<3.0,>=1.16.0 in /usr/local/lib/python3.11/dist-packages (from catboost) (2.0.2)\n",
            "Requirement already satisfied: pandas>=0.24 in /usr/local/lib/python3.11/dist-packages (from catboost) (2.2.2)\n",
            "Requirement already satisfied: scipy in /usr/local/lib/python3.11/dist-packages (from catboost) (1.16.0)\n",
            "Requirement already satisfied: plotly in /usr/local/lib/python3.11/dist-packages (from catboost) (5.24.1)\n",
            "Requirement already satisfied: six in /usr/local/lib/python3.11/dist-packages (from catboost) (1.17.0)\n",
            "Requirement already satisfied: python-dateutil>=2.8.2 in /usr/local/lib/python3.11/dist-packages (from pandas>=0.24->catboost) (2.9.0.post0)\n",
            "Requirement already satisfied: pytz>=2020.1 in /usr/local/lib/python3.11/dist-packages (from pandas>=0.24->catboost) (2025.2)\n",
            "Requirement already satisfied: tzdata>=2022.7 in /usr/local/lib/python3.11/dist-packages (from pandas>=0.24->catboost) (2025.2)\n",
            "Requirement already satisfied: contourpy>=1.0.1 in /usr/local/lib/python3.11/dist-packages (from matplotlib->catboost) (1.3.2)\n",
            "Requirement already satisfied: cycler>=0.10 in /usr/local/lib/python3.11/dist-packages (from matplotlib->catboost) (0.12.1)\n",
            "Requirement already satisfied: fonttools>=4.22.0 in /usr/local/lib/python3.11/dist-packages (from matplotlib->catboost) (4.59.0)\n",
            "Requirement already satisfied: kiwisolver>=1.3.1 in /usr/local/lib/python3.11/dist-packages (from matplotlib->catboost) (1.4.8)\n",
            "Requirement already satisfied: packaging>=20.0 in /usr/local/lib/python3.11/dist-packages (from matplotlib->catboost) (25.0)\n",
            "Requirement already satisfied: pillow>=8 in /usr/local/lib/python3.11/dist-packages (from matplotlib->catboost) (11.3.0)\n",
            "Requirement already satisfied: pyparsing>=2.3.1 in /usr/local/lib/python3.11/dist-packages (from matplotlib->catboost) (3.2.3)\n",
            "Requirement already satisfied: tenacity>=6.2.0 in /usr/local/lib/python3.11/dist-packages (from plotly->catboost) (8.5.0)\n",
            "Downloading catboost-1.2.8-cp311-cp311-manylinux2014_x86_64.whl (99.2 MB)\n",
            "\u001b[2K   \u001b[90m━━━━━━━━━━━━━━━━━━━━━━━━━━━━━━━━━━━━━━━━\u001b[0m \u001b[32m99.2/99.2 MB\u001b[0m \u001b[31m7.7 MB/s\u001b[0m eta \u001b[36m0:00:00\u001b[0m\n",
            "\u001b[?25hInstalling collected packages: catboost\n",
            "Successfully installed catboost-1.2.8\n"
          ]
        }
      ]
    },
    {
      "cell_type": "code",
      "source": [
        "from catboost import CatBoostClassifier, Pool\n",
        "import pandas as pd\n",
        "import numpy as np\n",
        "from sklearn.preprocessing import StandardScaler"
      ],
      "metadata": {
        "id": "0oThAHXFmit9"
      },
      "execution_count": 18,
      "outputs": []
    },
    {
      "cell_type": "code",
      "source": [
        "# Load and preprocess train data\n",
        "train_data = pd.read_csv(\"/content/drive/MyDrive/Untitled folder/train.csv\")\n",
        "test_data = pd.read_csv(\"/content/drive/MyDrive/Untitled folder/test.csv\")"
      ],
      "metadata": {
        "id": "LEdAHloJmn0k"
      },
      "execution_count": 19,
      "outputs": []
    },
    {
      "cell_type": "code",
      "source": [
        "# Handle missing values with improved imputation\n",
        "for column in ['Age', 'RoomService', 'FoodCourt', 'ShoppingMall', 'Spa', 'VRDeck']:\n",
        "    # Use mean imputation with a flag for missingness\n",
        "    train_data[f'{column}_missing'] = train_data[column].isna()\n",
        "    test_data[f'{column}_missing'] = test_data[column].isna()\n",
        "    train_data[column] = train_data[column].fillna(train_data[column].mean())\n",
        "    test_data[column] = test_data[column].fillna(test_data[column].mean())"
      ],
      "metadata": {
        "id": "a7hWCDxUmpqd"
      },
      "execution_count": 20,
      "outputs": []
    },
    {
      "cell_type": "code",
      "source": [
        "for column in ['CryoSleep', 'VIP', 'HomePlanet', 'Destination']:\n",
        "    train_data[column] = train_data[column].fillna('Unknown').astype(str)\n",
        "    test_data[column] = test_data[column].fillna('Unknown').astype(str)\n",
        "\n",
        "train_data['Cabin'] = train_data['Cabin'].fillna('Unknown/0/Unknown')\n",
        "test_data['Cabin'] = test_data['Cabin'].fillna('Unknown/0/Unknown')\n"
      ],
      "metadata": {
        "id": "GvhIaZsSmrnw"
      },
      "execution_count": 21,
      "outputs": []
    },
    {
      "cell_type": "code",
      "source": [
        "# Feature engineering\n",
        "train_data['Deck'] = train_data['Cabin'].apply(lambda x: x.split('/')[0])\n",
        "test_data['Deck'] = test_data['Cabin'].apply(lambda x: x.split('/')[0])\n",
        "train_data['Side'] = train_data['Cabin'].apply(lambda x: x.split('/')[2] if '/' in x else 'Unknown')\n",
        "test_data['Side'] = test_data['Cabin'].apply(lambda x: x.split('/')[2] if '/' in x else 'Unknown')\n",
        "train_data['TotalSpend'] = train_data[['RoomService', 'FoodCourt', 'ShoppingMall', 'Spa', 'VRDeck']].sum(axis=1)\n",
        "test_data['TotalSpend'] = test_data[['RoomService', 'FoodCourt', 'ShoppingMall', 'Spa', 'VRDeck']].sum(axis=1)"
      ],
      "metadata": {
        "id": "yncnQWNSmtcJ"
      },
      "execution_count": 22,
      "outputs": []
    },
    {
      "cell_type": "code",
      "source": [
        "# Scale numerical features\n",
        "numerical_features = ['Age', 'RoomService', 'FoodCourt', 'ShoppingMall', 'Spa', 'VRDeck', 'TotalSpend']\n",
        "scaler = StandardScaler()\n",
        "train_data[numerical_features] = scaler.fit_transform(train_data[numerical_features])\n",
        "test_data[numerical_features] = scaler.transform(test_data[numerical_features])"
      ],
      "metadata": {
        "id": "QSd1emDQmvgU"
      },
      "execution_count": 23,
      "outputs": []
    },
    {
      "cell_type": "code",
      "source": [
        "# Prepare features and target\n",
        "categorical_features = ['HomePlanet', 'CryoSleep', 'Destination', 'VIP', 'Deck', 'Side']\n",
        "for col in categorical_features:\n",
        "    train_data[col] = train_data[col].astype(str)\n",
        "    test_data[col] = test_data[col].astype(str)\n",
        "\n",
        "X_train = train_data.drop(columns=['PassengerId', 'Cabin', 'Name', 'Transported'])\n",
        "y_train = train_data['Transported'].astype(int)\n",
        "X_test = test_data.drop(columns=['PassengerId', 'Cabin', 'Name'])"
      ],
      "metadata": {
        "id": "uOuMsgAUmyBp"
      },
      "execution_count": 24,
      "outputs": []
    },
    {
      "cell_type": "code",
      "source": [
        "# Create CatBoost Pool with categorical features\n",
        "train_pool = Pool(X_train, y_train, cat_features=categorical_features)\n",
        "test_pool = Pool(X_test, cat_features=categorical_features)"
      ],
      "metadata": {
        "id": "J0ixUaw8m0fw"
      },
      "execution_count": 25,
      "outputs": []
    },
    {
      "cell_type": "code",
      "source": [
        "# Initialize and train the model with tuned parameters\n",
        "model = CatBoostClassifier(\n",
        "    iterations=200,\n",
        "    depth=8,\n",
        "    learning_rate=0.05,\n",
        "    l2_leaf_reg=3,\n",
        "    verbose=10\n",
        ")\n",
        "model.fit(train_pool)"
      ],
      "metadata": {
        "colab": {
          "base_uri": "https://localhost:8080/"
        },
        "id": "wp8f_tyMm5UB",
        "outputId": "e17d895e-549e-4862-cf3d-251ce380c4a1"
      },
      "execution_count": 26,
      "outputs": [
        {
          "output_type": "stream",
          "name": "stdout",
          "text": [
            "0:\tlearn: 0.6709115\ttotal: 202ms\tremaining: 40.2s\n",
            "10:\tlearn: 0.5303761\ttotal: 1.68s\tremaining: 28.9s\n",
            "20:\tlearn: 0.4741713\ttotal: 3.11s\tremaining: 26.5s\n",
            "30:\tlearn: 0.4434617\ttotal: 4.21s\tremaining: 22.9s\n",
            "40:\tlearn: 0.4265011\ttotal: 4.93s\tremaining: 19.1s\n",
            "50:\tlearn: 0.4120001\ttotal: 5.65s\tremaining: 16.5s\n",
            "60:\tlearn: 0.4038480\ttotal: 6.52s\tremaining: 14.9s\n",
            "70:\tlearn: 0.3970137\ttotal: 7.32s\tremaining: 13.3s\n",
            "80:\tlearn: 0.3917205\ttotal: 7.9s\tremaining: 11.6s\n",
            "90:\tlearn: 0.3863753\ttotal: 8.47s\tremaining: 10.2s\n",
            "100:\tlearn: 0.3822715\ttotal: 8.9s\tremaining: 8.73s\n",
            "110:\tlearn: 0.3807631\ttotal: 9.18s\tremaining: 7.36s\n",
            "120:\tlearn: 0.3784132\ttotal: 9.43s\tremaining: 6.16s\n",
            "130:\tlearn: 0.3759957\ttotal: 9.73s\tremaining: 5.12s\n",
            "140:\tlearn: 0.3731584\ttotal: 10s\tremaining: 4.2s\n",
            "150:\tlearn: 0.3686448\ttotal: 10.3s\tremaining: 3.35s\n",
            "160:\tlearn: 0.3657483\ttotal: 10.6s\tremaining: 2.58s\n",
            "170:\tlearn: 0.3630277\ttotal: 10.9s\tremaining: 1.85s\n",
            "180:\tlearn: 0.3597865\ttotal: 11.3s\tremaining: 1.18s\n",
            "190:\tlearn: 0.3571454\ttotal: 11.5s\tremaining: 544ms\n",
            "199:\tlearn: 0.3533052\ttotal: 11.8s\tremaining: 0us\n"
          ]
        },
        {
          "output_type": "execute_result",
          "data": {
            "text/plain": [
              "<catboost.core.CatBoostClassifier at 0x78178a1aec10>"
            ]
          },
          "metadata": {},
          "execution_count": 26
        }
      ]
    },
    {
      "cell_type": "code",
      "source": [
        "# Predict on test data\n",
        "predictions = model.predict(test_pool)\n",
        "\n",
        "# Create submission DataFrame\n",
        "submission = pd.DataFrame({\n",
        "    'PassengerId': test_data['PassengerId'],\n",
        "    'Transported': predictions.astype(bool)\n",
        "})\n",
        "\n",
        "# Save to CSV\n",
        "submission.to_csv('predictions.csv', index=False)\n",
        "\n",
        "# Evaluate model\n",
        "train_predictions = model.predict(train_pool)\n",
        "accuracy = (train_predictions == y_train).mean()\n",
        "print(f\"Training Accuracy: {accuracy:.4f}\")"
      ],
      "metadata": {
        "colab": {
          "base_uri": "https://localhost:8080/"
        },
        "id": "wfFSsuGSmeNP",
        "outputId": "32f5be59-c70d-42fc-9f98-75278d3a376e"
      },
      "execution_count": 27,
      "outputs": [
        {
          "output_type": "stream",
          "name": "stdout",
          "text": [
            "Training Accuracy: 0.8322\n"
          ]
        }
      ]
    },
    {
      "cell_type": "code",
      "source": [],
      "metadata": {
        "id": "OxyG6ko-nFVh"
      },
      "execution_count": null,
      "outputs": []
    }
  ]
}