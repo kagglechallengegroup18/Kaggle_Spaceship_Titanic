{
  "nbformat": 4,
  "nbformat_minor": 0,
  "metadata": {
    "colab": {
      "provenance": [],
      "gpuType": "L4"
    },
    "kernelspec": {
      "name": "python3",
      "display_name": "Python 3"
    },
    "language_info": {
      "name": "python"
    },
    "accelerator": "GPU"
  },
  "cells": [
    {
      "cell_type": "code",
      "execution_count": null,
      "metadata": {
        "colab": {
          "base_uri": "https://localhost:8080/"
        },
        "id": "W2ph8P_BwTFc",
        "outputId": "3fc5844a-3235-4d4b-ef69-627c308acf77"
      },
      "outputs": [
        {
          "output_type": "stream",
          "name": "stdout",
          "text": [
            "Collecting catboost\n",
            "  Downloading catboost-1.2.8-cp311-cp311-manylinux2014_x86_64.whl.metadata (1.2 kB)\n",
            "Requirement already satisfied: graphviz in /usr/local/lib/python3.11/dist-packages (from catboost) (0.21)\n",
            "Requirement already satisfied: matplotlib in /usr/local/lib/python3.11/dist-packages (from catboost) (3.10.0)\n",
            "Requirement already satisfied: numpy<3.0,>=1.16.0 in /usr/local/lib/python3.11/dist-packages (from catboost) (2.0.2)\n",
            "Requirement already satisfied: pandas>=0.24 in /usr/local/lib/python3.11/dist-packages (from catboost) (2.2.2)\n",
            "Requirement already satisfied: scipy in /usr/local/lib/python3.11/dist-packages (from catboost) (1.16.0)\n",
            "Requirement already satisfied: plotly in /usr/local/lib/python3.11/dist-packages (from catboost) (5.24.1)\n",
            "Requirement already satisfied: six in /usr/local/lib/python3.11/dist-packages (from catboost) (1.17.0)\n",
            "Requirement already satisfied: python-dateutil>=2.8.2 in /usr/local/lib/python3.11/dist-packages (from pandas>=0.24->catboost) (2.9.0.post0)\n",
            "Requirement already satisfied: pytz>=2020.1 in /usr/local/lib/python3.11/dist-packages (from pandas>=0.24->catboost) (2025.2)\n",
            "Requirement already satisfied: tzdata>=2022.7 in /usr/local/lib/python3.11/dist-packages (from pandas>=0.24->catboost) (2025.2)\n",
            "Requirement already satisfied: contourpy>=1.0.1 in /usr/local/lib/python3.11/dist-packages (from matplotlib->catboost) (1.3.2)\n",
            "Requirement already satisfied: cycler>=0.10 in /usr/local/lib/python3.11/dist-packages (from matplotlib->catboost) (0.12.1)\n",
            "Requirement already satisfied: fonttools>=4.22.0 in /usr/local/lib/python3.11/dist-packages (from matplotlib->catboost) (4.59.0)\n",
            "Requirement already satisfied: kiwisolver>=1.3.1 in /usr/local/lib/python3.11/dist-packages (from matplotlib->catboost) (1.4.8)\n",
            "Requirement already satisfied: packaging>=20.0 in /usr/local/lib/python3.11/dist-packages (from matplotlib->catboost) (25.0)\n",
            "Requirement already satisfied: pillow>=8 in /usr/local/lib/python3.11/dist-packages (from matplotlib->catboost) (11.3.0)\n",
            "Requirement already satisfied: pyparsing>=2.3.1 in /usr/local/lib/python3.11/dist-packages (from matplotlib->catboost) (3.2.3)\n",
            "Requirement already satisfied: tenacity>=6.2.0 in /usr/local/lib/python3.11/dist-packages (from plotly->catboost) (8.5.0)\n",
            "Downloading catboost-1.2.8-cp311-cp311-manylinux2014_x86_64.whl (99.2 MB)\n",
            "\u001b[2K   \u001b[90m━━━━━━━━━━━━━━━━━━━━━━━━━━━━━━━━━━━━━━━━\u001b[0m \u001b[32m99.2/99.2 MB\u001b[0m \u001b[31m22.3 MB/s\u001b[0m eta \u001b[36m0:00:00\u001b[0m\n",
            "\u001b[?25hInstalling collected packages: catboost\n",
            "Successfully installed catboost-1.2.8\n"
          ]
        }
      ],
      "source": [
        "\n",
        "pip install catboost"
      ]
    },
    {
      "cell_type": "code",
      "source": [
        "import pandas as pd\n",
        "import numpy as np\n",
        "from sklearn.impute import KNNImputer\n",
        "from sklearn.model_selection import StratifiedKFold\n",
        "from sklearn.metrics import accuracy_score\n",
        "from catboost import CatBoostClassifier, Pool\n",
        "import gc"
      ],
      "metadata": {
        "id": "7rOEJTFtwb07"
      },
      "execution_count": null,
      "outputs": []
    },
    {
      "cell_type": "code",
      "source": [
        "datapath_train = \"https://raw.githubusercontent.com/kagglechallengegroup18/Kaggle_Spaceship_Titanic/refs/heads/main/train.csv\"\n",
        "df_train = pd.read_csv(datapath_train)"
      ],
      "metadata": {
        "id": "TPmOLCmswiXp"
      },
      "execution_count": null,
      "outputs": []
    },
    {
      "cell_type": "code",
      "source": [
        "datapath_test=\"https://raw.githubusercontent.com/kagglechallengegroup18/Kaggle_Spaceship_Titanic/refs/heads/main/test.csv\"\n",
        "df_test= pd.read_csv(datapath_test)\n",
        "passenger_ids = df_test[\"PassengerId\"].copy()"
      ],
      "metadata": {
        "id": "cGNBs8Rwx1i5"
      },
      "execution_count": null,
      "outputs": []
    },
    {
      "cell_type": "code",
      "source": [
        "#  PREPROCESSING FUNCTION\n",
        "def preprocess(df, imputer=None, is_train=True):\n",
        "    df = df.copy()\n",
        "\n",
        "    df['Age'] = df['Age'].replace(0, np.nan)\n",
        "    cat_cols = ['HomePlanet', 'CryoSleep', 'Cabin', 'Destination', 'VIP', 'Name']\n",
        "    df[cat_cols] = df[cat_cols].fillna('Missing')\n",
        "    df['CryoSleep'] = df['CryoSleep'].astype(str)\n",
        "    df['VIP'] = df['VIP'].astype(str)\n",
        "\n",
        "    df[['Deck', 'CabinNum', 'Side']] = df['Cabin'].str.split('/', expand=True)\n",
        "    df[['Deck', 'CabinNum', 'Side']] = df[['Deck', 'CabinNum', 'Side']].fillna('Missing')\n",
        "\n",
        "    df['Group'] = df['PassengerId'].str.split('_').str[0]\n",
        "    spend_cols = ['RoomService', 'FoodCourt', 'ShoppingMall', 'Spa', 'VRDeck']\n",
        "    df['TotalSpend'] = df[spend_cols].sum(axis=1)\n",
        "    for col in spend_cols:\n",
        "        df[f'{col}_Spent'] = (df[col] > 0).astype(int)\n",
        "\n",
        "    df['NameLength'] = df['Name'].apply(lambda x: len(str(x)))\n",
        "    df['HasName'] = df['Name'].apply(lambda x: 0 if x == 'Missing' else 1)\n",
        "\n",
        "    num_cols = ['Age'] + spend_cols\n",
        "    if is_train:\n",
        "        imputer = KNNImputer(n_neighbors=5)\n",
        "        df[num_cols] = imputer.fit_transform(df[num_cols])\n",
        "    else:\n",
        "        df[num_cols] = imputer.transform(df[num_cols])\n",
        "\n",
        "    drop_cols = ['PassengerId', 'Name', 'Cabin']\n",
        "    if is_train:\n",
        "        y = df['Transported'].astype(int)\n",
        "        X = df.drop(columns=drop_cols + ['Transported'])\n",
        "        return X, y, imputer\n",
        "    else:\n",
        "        return df.drop(columns=drop_cols)"
      ],
      "metadata": {
        "id": "9XtSHbokx6-R"
      },
      "execution_count": null,
      "outputs": []
    },
    {
      "cell_type": "code",
      "source": [
        "X, y, imputer = preprocess(df_train, is_train=True)\n",
        "X_test = preprocess(df_test, imputer=imputer, is_train=False)\n",
        "\n",
        "cat_cols = [col for col in X.columns if X[col].dtype == \"object\"]"
      ],
      "metadata": {
        "id": "eIK-BPXzyeyf"
      },
      "execution_count": null,
      "outputs": []
    },
    {
      "cell_type": "code",
      "source": [
        "# STRATIFIED K-FOLD CV ON CPU\n",
        "kf = StratifiedKFold(n_splits=5, shuffle=True, random_state=42)\n",
        "cv_scores = []\n",
        "models = []\n",
        "\n",
        "for fold, (train_idx, val_idx) in enumerate(kf.split(X, y)):\n",
        "    print(f\"\\n🔁 Fold {fold+1}\")\n",
        "    X_train, X_val = X.iloc[train_idx], X.iloc[val_idx]\n",
        "    y_train, y_val = y.iloc[train_idx], y.iloc[val_idx]\n",
        "\n",
        "    train_pool = Pool(X_train, y_train, cat_features=cat_cols)\n",
        "    val_pool = Pool(X_val, y_val, cat_features=cat_cols)\n",
        "\n",
        "    model = CatBoostClassifier(\n",
        "        task_type='GPU',  #  SAFE FOR CV\n",
        "        iterations=1000,\n",
        "        learning_rate=0.05,\n",
        "        depth=6,\n",
        "        random_seed=42,\n",
        "        early_stopping_rounds=50,\n",
        "        verbose=100\n",
        "    )\n",
        "\n",
        "    model.fit(train_pool, eval_set=val_pool)\n",
        "    preds = model.predict(X_val)\n",
        "    acc = accuracy_score(y_val, preds)\n",
        "    print(f\" Fold {fold+1} Accuracy: {acc:.4f}\")\n",
        "\n",
        "    cv_scores.append(acc)\n",
        "    models.append(model)\n",
        "    del model\n",
        "    gc.collect()\n",
        "\n",
        "print(f\"\\n Mean CV Accuracy: {np.mean(cv_scores):.4f}\")"
      ],
      "metadata": {
        "id": "th3WkMFjyhgy",
        "colab": {
          "base_uri": "https://localhost:8080/"
        },
        "outputId": "d10412b1-bb16-47e8-b32d-fabb1ffe4eea"
      },
      "execution_count": null,
      "outputs": [
        {
          "output_type": "stream",
          "name": "stdout",
          "text": [
            "\n",
            "🔁 Fold 1\n",
            "0:\tlearn: 0.6691644\ttest: 0.6673266\tbest: 0.6673266 (0)\ttotal: 47.2ms\tremaining: 47.1s\n",
            "100:\tlearn: 0.4050262\ttest: 0.4119958\tbest: 0.4119958 (100)\ttotal: 3.61s\tremaining: 32.1s\n",
            "200:\tlearn: 0.3873229\ttest: 0.4028500\tbest: 0.4028500 (200)\ttotal: 7.08s\tremaining: 28.1s\n",
            "300:\tlearn: 0.3771120\ttest: 0.4000466\tbest: 0.3998917 (272)\ttotal: 10.4s\tremaining: 24.2s\n",
            "400:\tlearn: 0.3713039\ttest: 0.3982386\tbest: 0.3982264 (397)\ttotal: 13.6s\tremaining: 20.3s\n",
            "500:\tlearn: 0.3636505\ttest: 0.3966979\tbest: 0.3966978 (499)\ttotal: 16.8s\tremaining: 16.8s\n",
            "600:\tlearn: 0.3590242\ttest: 0.3956791\tbest: 0.3956658 (595)\ttotal: 20s\tremaining: 13.3s\n",
            "700:\tlearn: 0.3535127\ttest: 0.3943636\tbest: 0.3942438 (695)\ttotal: 23.3s\tremaining: 9.95s\n",
            "800:\tlearn: 0.3489582\ttest: 0.3936976\tbest: 0.3936525 (797)\ttotal: 26.6s\tremaining: 6.61s\n",
            "900:\tlearn: 0.3441885\ttest: 0.3936469\tbest: 0.3933207 (865)\ttotal: 30s\tremaining: 3.29s\n",
            "bestTest = 0.3933207253\n",
            "bestIteration = 865\n",
            "Shrink model to first 866 iterations.\n",
            "✅ Fold 1 Accuracy: 0.8074\n",
            "\n",
            "🔁 Fold 2\n",
            "0:\tlearn: 0.6681816\ttest: 0.6691515\tbest: 0.6691515 (0)\ttotal: 38.1ms\tremaining: 38s\n",
            "100:\tlearn: 0.4007602\ttest: 0.4294884\tbest: 0.4294884 (100)\ttotal: 3.43s\tremaining: 30.5s\n",
            "200:\tlearn: 0.3799204\ttest: 0.4209356\tbest: 0.4209356 (200)\ttotal: 6.8s\tremaining: 27s\n",
            "300:\tlearn: 0.3651652\ttest: 0.4174514\tbest: 0.4174514 (300)\ttotal: 10.2s\tremaining: 23.8s\n",
            "400:\tlearn: 0.3545703\ttest: 0.4154241\tbest: 0.4154220 (397)\ttotal: 13.7s\tremaining: 20.5s\n",
            "500:\tlearn: 0.3473948\ttest: 0.4145334\tbest: 0.4145301 (499)\ttotal: 17.1s\tremaining: 17s\n",
            "600:\tlearn: 0.3405908\ttest: 0.4140105\tbest: 0.4137416 (573)\ttotal: 20.6s\tremaining: 13.7s\n",
            "bestTest = 0.4137415653\n",
            "bestIteration = 573\n",
            "Shrink model to first 574 iterations.\n",
            "✅ Fold 2 Accuracy: 0.7987\n",
            "\n",
            "🔁 Fold 3\n",
            "0:\tlearn: 0.6706793\ttest: 0.6717683\tbest: 0.6717683 (0)\ttotal: 37.8ms\tremaining: 37.7s\n",
            "100:\tlearn: 0.4039947\ttest: 0.4199572\tbest: 0.4199572 (100)\ttotal: 3.45s\tremaining: 30.7s\n",
            "200:\tlearn: 0.3856324\ttest: 0.4107493\tbest: 0.4107493 (200)\ttotal: 6.76s\tremaining: 26.9s\n",
            "300:\tlearn: 0.3733347\ttest: 0.4060439\tbest: 0.4059997 (298)\ttotal: 10.2s\tremaining: 23.6s\n",
            "400:\tlearn: 0.3653072\ttest: 0.4038271\tbest: 0.4037759 (397)\ttotal: 13.4s\tremaining: 20.1s\n",
            "500:\tlearn: 0.3615373\ttest: 0.4027245\tbest: 0.4027121 (498)\ttotal: 16.7s\tremaining: 16.6s\n",
            "600:\tlearn: 0.3572333\ttest: 0.4013932\tbest: 0.4013729 (597)\ttotal: 20s\tremaining: 13.3s\n",
            "700:\tlearn: 0.3525633\ttest: 0.3996188\tbest: 0.3995397 (691)\ttotal: 23.3s\tremaining: 9.96s\n",
            "bestTest = 0.3995397479\n",
            "bestIteration = 691\n",
            "Shrink model to first 692 iterations.\n",
            "✅ Fold 3 Accuracy: 0.8143\n",
            "\n",
            "🔁 Fold 4\n",
            "0:\tlearn: 0.6676862\ttest: 0.6679249\tbest: 0.6679249 (0)\ttotal: 38.1ms\tremaining: 38.1s\n",
            "100:\tlearn: 0.4103554\ttest: 0.4056004\tbest: 0.4056004 (100)\ttotal: 3.55s\tremaining: 31.6s\n",
            "200:\tlearn: 0.3906282\ttest: 0.3925763\tbest: 0.3925623 (198)\ttotal: 6.95s\tremaining: 27.6s\n",
            "300:\tlearn: 0.3796677\ttest: 0.3873027\tbest: 0.3872684 (298)\ttotal: 10.4s\tremaining: 24.1s\n",
            "400:\tlearn: 0.3694244\ttest: 0.3832920\tbest: 0.3832912 (399)\ttotal: 13.8s\tremaining: 20.6s\n",
            "500:\tlearn: 0.3597838\ttest: 0.3800775\tbest: 0.3800031 (493)\ttotal: 17.3s\tremaining: 17.2s\n",
            "600:\tlearn: 0.3530278\ttest: 0.3781641\tbest: 0.3781111 (596)\ttotal: 20.7s\tremaining: 13.7s\n",
            "700:\tlearn: 0.3471243\ttest: 0.3773614\tbest: 0.3770835 (695)\ttotal: 24.1s\tremaining: 10.3s\n",
            "800:\tlearn: 0.3419151\ttest: 0.3769483\tbest: 0.3768531 (754)\ttotal: 27.4s\tremaining: 6.82s\n",
            "bestTest = 0.3768531088\n",
            "bestIteration = 754\n",
            "Shrink model to first 755 iterations.\n",
            "✅ Fold 4 Accuracy: 0.8199\n",
            "\n",
            "🔁 Fold 5\n",
            "0:\tlearn: 0.6673509\ttest: 0.6676358\tbest: 0.6676358 (0)\ttotal: 37.3ms\tremaining: 37.2s\n",
            "100:\tlearn: 0.3994525\ttest: 0.4308945\tbest: 0.4308945 (100)\ttotal: 3.46s\tremaining: 30.8s\n",
            "200:\tlearn: 0.3799698\ttest: 0.4241555\tbest: 0.4241341 (197)\ttotal: 6.86s\tremaining: 27.3s\n",
            "300:\tlearn: 0.3677044\ttest: 0.4210740\tbest: 0.4210740 (300)\ttotal: 10.3s\tremaining: 24s\n",
            "400:\tlearn: 0.3585826\ttest: 0.4198232\tbest: 0.4198232 (400)\ttotal: 13.8s\tremaining: 20.6s\n",
            "500:\tlearn: 0.3513094\ttest: 0.4188828\tbest: 0.4188828 (500)\ttotal: 17.2s\tremaining: 17.2s\n",
            "bestTest = 0.4188261219\n",
            "bestIteration = 507\n",
            "Shrink model to first 508 iterations.\n",
            "✅ Fold 5 Accuracy: 0.7917\n",
            "\n",
            "📊 Mean CV Accuracy: 0.8064\n"
          ]
        }
      ]
    },
    {
      "cell_type": "code",
      "source": [
        "# FINAL MODEL ON GPU\n",
        "final_model = CatBoostClassifier(\n",
        "    task_type='GPU',\n",
        "    devices='0',\n",
        "    iterations=1000,\n",
        "    learning_rate=0.05,\n",
        "    depth=6,\n",
        "    random_seed=42,\n",
        "    early_stopping_rounds=50,\n",
        "    verbose=100\n",
        ")\n",
        "\n",
        "final_pool = Pool(X, y, cat_features=cat_cols)\n",
        "final_model.fit(final_pool)"
      ],
      "metadata": {
        "id": "RZX3bvlXyjtM",
        "colab": {
          "base_uri": "https://localhost:8080/"
        },
        "outputId": "04079ded-c797-45e9-f229-657651cc17a0"
      },
      "execution_count": null,
      "outputs": [
        {
          "output_type": "stream",
          "name": "stdout",
          "text": [
            "0:\tlearn: 0.6673812\ttotal: 36.4ms\tremaining: 36.4s\n",
            "100:\tlearn: 0.4030496\ttotal: 3.39s\tremaining: 30.2s\n",
            "200:\tlearn: 0.3843093\ttotal: 6.7s\tremaining: 26.6s\n",
            "300:\tlearn: 0.3742187\ttotal: 10s\tremaining: 23.3s\n",
            "400:\tlearn: 0.3671586\ttotal: 13.2s\tremaining: 19.8s\n",
            "500:\tlearn: 0.3606411\ttotal: 16.6s\tremaining: 16.6s\n",
            "600:\tlearn: 0.3556532\ttotal: 20s\tremaining: 13.2s\n",
            "700:\tlearn: 0.3507442\ttotal: 23.3s\tremaining: 9.95s\n",
            "800:\tlearn: 0.3466523\ttotal: 26.6s\tremaining: 6.61s\n",
            "900:\tlearn: 0.3424710\ttotal: 29.9s\tremaining: 3.29s\n",
            "999:\tlearn: 0.3392797\ttotal: 33.2s\tremaining: 0us\n"
          ]
        },
        {
          "output_type": "execute_result",
          "data": {
            "text/plain": [
              "<catboost.core.CatBoostClassifier at 0x78c6c3d5b110>"
            ]
          },
          "metadata": {},
          "execution_count": 9
        }
      ]
    },
    {
      "cell_type": "code",
      "source": [
        "# OPTIMIZE THRESHOLD ON VALIDATION SET\n",
        "val_probs = final_model.predict_proba(X_val)[:, 1]\n",
        "\n",
        "best_threshold = 0.5\n",
        "best_score = 0\n",
        "\n",
        "for t in np.arange(0.3, 0.71, 0.01):\n",
        "    val_preds = (val_probs > t).astype(int)\n",
        "    score = accuracy_score(y_val, val_preds)  # or use f1_score\n",
        "    if score > best_score:\n",
        "        best_score = score\n",
        "        best_threshold = t\n",
        "\n",
        "print(f\"\\n Best threshold: {best_threshold:.2f} with accuracy: {best_score:.4f}\")"
      ],
      "metadata": {
        "colab": {
          "base_uri": "https://localhost:8080/"
        },
        "id": "XFU06QOKIR5e",
        "outputId": "b31f0bcc-2870-4541-b689-46bc96f3c017"
      },
      "execution_count": null,
      "outputs": [
        {
          "output_type": "stream",
          "name": "stdout",
          "text": [
            "\n",
            " Best threshold: 0.51 with accuracy: 0.8280\n"
          ]
        }
      ]
    },
    {
      "cell_type": "code",
      "source": [
        "#  PREDICT ON TEST SET USING OPTIMIZED THRESHOLD\n",
        "test_pool = Pool(X_test, cat_features=cat_cols)\n",
        "test_probs = final_model.predict_proba(test_pool)[:, 1]\n",
        "test_preds = (test_probs > best_threshold).astype(bool)"
      ],
      "metadata": {
        "id": "lbqHrn6vymHk"
      },
      "execution_count": null,
      "outputs": []
    },
    {
      "cell_type": "code",
      "source": [
        "#  CREATE SUBMISSION FILE\n",
        "submission = df_test[['PassengerId']].copy()\n",
        "submission['Transported'] = test_preds\n",
        "submission.to_csv(\"submission10.csv\", index=False)"
      ],
      "metadata": {
        "id": "68GGcJYAyqT_"
      },
      "execution_count": null,
      "outputs": []
    },
    {
      "cell_type": "code",
      "source": [
        "from google.colab import files\n",
        "\n",
        "files.download('submission10.csv')"
      ],
      "metadata": {
        "colab": {
          "base_uri": "https://localhost:8080/",
          "height": 17
        },
        "id": "_8QwlEtuAvB2",
        "outputId": "1ffd0847-ae90-423a-f9a7-3c0e3204d4db"
      },
      "execution_count": null,
      "outputs": [
        {
          "output_type": "display_data",
          "data": {
            "text/plain": [
              "<IPython.core.display.Javascript object>"
            ],
            "application/javascript": [
              "\n",
              "    async function download(id, filename, size) {\n",
              "      if (!google.colab.kernel.accessAllowed) {\n",
              "        return;\n",
              "      }\n",
              "      const div = document.createElement('div');\n",
              "      const label = document.createElement('label');\n",
              "      label.textContent = `Downloading \"${filename}\": `;\n",
              "      div.appendChild(label);\n",
              "      const progress = document.createElement('progress');\n",
              "      progress.max = size;\n",
              "      div.appendChild(progress);\n",
              "      document.body.appendChild(div);\n",
              "\n",
              "      const buffers = [];\n",
              "      let downloaded = 0;\n",
              "\n",
              "      const channel = await google.colab.kernel.comms.open(id);\n",
              "      // Send a message to notify the kernel that we're ready.\n",
              "      channel.send({})\n",
              "\n",
              "      for await (const message of channel.messages) {\n",
              "        // Send a message to notify the kernel that we're ready.\n",
              "        channel.send({})\n",
              "        if (message.buffers) {\n",
              "          for (const buffer of message.buffers) {\n",
              "            buffers.push(buffer);\n",
              "            downloaded += buffer.byteLength;\n",
              "            progress.value = downloaded;\n",
              "          }\n",
              "        }\n",
              "      }\n",
              "      const blob = new Blob(buffers, {type: 'application/binary'});\n",
              "      const a = document.createElement('a');\n",
              "      a.href = window.URL.createObjectURL(blob);\n",
              "      a.download = filename;\n",
              "      div.appendChild(a);\n",
              "      a.click();\n",
              "      div.remove();\n",
              "    }\n",
              "  "
            ]
          },
          "metadata": {}
        },
        {
          "output_type": "display_data",
          "data": {
            "text/plain": [
              "<IPython.core.display.Javascript object>"
            ],
            "application/javascript": [
              "download(\"download_82947d91-3c83-4cce-bd30-92898e7060dd\", \"submission10.csv\", 57732)"
            ]
          },
          "metadata": {}
        }
      ]
    },
    {
      "cell_type": "code",
      "source": [],
      "metadata": {
        "id": "XK_dMQEPAz6p"
      },
      "execution_count": null,
      "outputs": []
    }
  ]
}